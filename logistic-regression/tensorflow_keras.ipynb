{
  "nbformat": 4,
  "nbformat_minor": 0,
  "metadata": {
    "colab": {
      "provenance": [],
      "authorship_tag": "ABX9TyMeFg5npKcIthbwgOGjgCJE",
      "include_colab_link": true
    },
    "kernelspec": {
      "name": "python3",
      "display_name": "Python 3"
    },
    "language_info": {
      "name": "python"
    }
  },
  "cells": [
    {
      "cell_type": "markdown",
      "metadata": {
        "id": "view-in-github",
        "colab_type": "text"
      },
      "source": [
        "<a href=\"https://colab.research.google.com/github/haneujeen/ml-projects/blob/main/logistic-regression/tensorflow_keras.ipynb\" target=\"_parent\"><img src=\"https://colab.research.google.com/assets/colab-badge.svg\" alt=\"Open In Colab\"/></a>"
      ]
    },
    {
      "cell_type": "code",
      "execution_count": null,
      "metadata": {
        "id": "Bw2CdGGWzx58",
        "colab": {
          "base_uri": "https://localhost:8080/",
          "height": 37
        },
        "outputId": "f4f14942-c188-46e9-c381-7965d31b6e3d"
      },
      "outputs": [
        {
          "output_type": "execute_result",
          "data": {
            "text/plain": [
              "'2.12.0'"
            ],
            "application/vnd.google.colaboratory.intrinsic+json": {
              "type": "string"
            }
          },
          "metadata": {},
          "execution_count": 38
        }
      ],
      "source": [
        "import tensorflow as tf\n",
        "tf.__version__"
      ]
    },
    {
      "cell_type": "code",
      "source": [
        "from sklearn.datasets import load_breast_cancer"
      ],
      "metadata": {
        "id": "TgXQjNZfda2D"
      },
      "execution_count": null,
      "outputs": []
    },
    {
      "cell_type": "code",
      "source": [
        "data = load_breast_cancer()\n",
        "data"
      ],
      "metadata": {
        "colab": {
          "base_uri": "https://localhost:8080/"
        },
        "id": "afWKvpudeDss",
        "outputId": "4d29ebee-35f2-4adc-9c1d-64a81a3019bd"
      },
      "execution_count": null,
      "outputs": [
        {
          "output_type": "execute_result",
          "data": {
            "text/plain": [
              "{'data': array([[1.799e+01, 1.038e+01, 1.228e+02, ..., 2.654e-01, 4.601e-01,\n",
              "         1.189e-01],\n",
              "        [2.057e+01, 1.777e+01, 1.329e+02, ..., 1.860e-01, 2.750e-01,\n",
              "         8.902e-02],\n",
              "        [1.969e+01, 2.125e+01, 1.300e+02, ..., 2.430e-01, 3.613e-01,\n",
              "         8.758e-02],\n",
              "        ...,\n",
              "        [1.660e+01, 2.808e+01, 1.083e+02, ..., 1.418e-01, 2.218e-01,\n",
              "         7.820e-02],\n",
              "        [2.060e+01, 2.933e+01, 1.401e+02, ..., 2.650e-01, 4.087e-01,\n",
              "         1.240e-01],\n",
              "        [7.760e+00, 2.454e+01, 4.792e+01, ..., 0.000e+00, 2.871e-01,\n",
              "         7.039e-02]]),\n",
              " 'target': array([0, 0, 0, 0, 0, 0, 0, 0, 0, 0, 0, 0, 0, 0, 0, 0, 0, 0, 0, 1, 1, 1,\n",
              "        0, 0, 0, 0, 0, 0, 0, 0, 0, 0, 0, 0, 0, 0, 0, 1, 0, 0, 0, 0, 0, 0,\n",
              "        0, 0, 1, 0, 1, 1, 1, 1, 1, 0, 0, 1, 0, 0, 1, 1, 1, 1, 0, 1, 0, 0,\n",
              "        1, 1, 1, 1, 0, 1, 0, 0, 1, 0, 1, 0, 0, 1, 1, 1, 0, 0, 1, 0, 0, 0,\n",
              "        1, 1, 1, 0, 1, 1, 0, 0, 1, 1, 1, 0, 0, 1, 1, 1, 1, 0, 1, 1, 0, 1,\n",
              "        1, 1, 1, 1, 1, 1, 1, 0, 0, 0, 1, 0, 0, 1, 1, 1, 0, 0, 1, 0, 1, 0,\n",
              "        0, 1, 0, 0, 1, 1, 0, 1, 1, 0, 1, 1, 1, 1, 0, 1, 1, 1, 1, 1, 1, 1,\n",
              "        1, 1, 0, 1, 1, 1, 1, 0, 0, 1, 0, 1, 1, 0, 0, 1, 1, 0, 0, 1, 1, 1,\n",
              "        1, 0, 1, 1, 0, 0, 0, 1, 0, 1, 0, 1, 1, 1, 0, 1, 1, 0, 0, 1, 0, 0,\n",
              "        0, 0, 1, 0, 0, 0, 1, 0, 1, 0, 1, 1, 0, 1, 0, 0, 0, 0, 1, 1, 0, 0,\n",
              "        1, 1, 1, 0, 1, 1, 1, 1, 1, 0, 0, 1, 1, 0, 1, 1, 0, 0, 1, 0, 1, 1,\n",
              "        1, 1, 0, 1, 1, 1, 1, 1, 0, 1, 0, 0, 0, 0, 0, 0, 0, 0, 0, 0, 0, 0,\n",
              "        0, 0, 1, 1, 1, 1, 1, 1, 0, 1, 0, 1, 1, 0, 1, 1, 0, 1, 0, 0, 1, 1,\n",
              "        1, 1, 1, 1, 1, 1, 1, 1, 1, 1, 1, 0, 1, 1, 0, 1, 0, 1, 1, 1, 1, 1,\n",
              "        1, 1, 1, 1, 1, 1, 1, 1, 1, 0, 1, 1, 1, 0, 1, 0, 1, 1, 1, 1, 0, 0,\n",
              "        0, 1, 1, 1, 1, 0, 1, 0, 1, 0, 1, 1, 1, 0, 1, 1, 1, 1, 1, 1, 1, 0,\n",
              "        0, 0, 1, 1, 1, 1, 1, 1, 1, 1, 1, 1, 1, 0, 0, 1, 0, 0, 0, 1, 0, 0,\n",
              "        1, 1, 1, 1, 1, 0, 1, 1, 1, 1, 1, 0, 1, 1, 1, 0, 1, 1, 0, 0, 1, 1,\n",
              "        1, 1, 1, 1, 0, 1, 1, 1, 1, 1, 1, 1, 0, 1, 1, 1, 1, 1, 0, 1, 1, 0,\n",
              "        1, 1, 1, 1, 1, 1, 1, 1, 1, 1, 1, 1, 0, 1, 0, 0, 1, 0, 1, 1, 1, 1,\n",
              "        1, 0, 1, 1, 0, 1, 0, 1, 1, 0, 1, 0, 1, 1, 1, 1, 1, 1, 1, 1, 0, 0,\n",
              "        1, 1, 1, 1, 1, 1, 0, 1, 1, 1, 1, 1, 1, 1, 1, 1, 1, 0, 1, 1, 1, 1,\n",
              "        1, 1, 1, 0, 1, 0, 1, 1, 0, 1, 1, 1, 1, 1, 0, 0, 1, 0, 1, 0, 1, 1,\n",
              "        1, 1, 1, 0, 1, 1, 0, 1, 0, 1, 0, 0, 1, 1, 1, 0, 1, 1, 1, 1, 1, 1,\n",
              "        1, 1, 1, 1, 1, 0, 1, 0, 0, 1, 1, 1, 1, 1, 1, 1, 1, 1, 1, 1, 1, 1,\n",
              "        1, 1, 1, 1, 1, 1, 1, 1, 1, 1, 1, 1, 0, 0, 0, 0, 0, 0, 1]),\n",
              " 'frame': None,\n",
              " 'target_names': array(['malignant', 'benign'], dtype='<U9'),\n",
              " 'DESCR': '.. _breast_cancer_dataset:\\n\\nBreast cancer wisconsin (diagnostic) dataset\\n--------------------------------------------\\n\\n**Data Set Characteristics:**\\n\\n    :Number of Instances: 569\\n\\n    :Number of Attributes: 30 numeric, predictive attributes and the class\\n\\n    :Attribute Information:\\n        - radius (mean of distances from center to points on the perimeter)\\n        - texture (standard deviation of gray-scale values)\\n        - perimeter\\n        - area\\n        - smoothness (local variation in radius lengths)\\n        - compactness (perimeter^2 / area - 1.0)\\n        - concavity (severity of concave portions of the contour)\\n        - concave points (number of concave portions of the contour)\\n        - symmetry\\n        - fractal dimension (\"coastline approximation\" - 1)\\n\\n        The mean, standard error, and \"worst\" or largest (mean of the three\\n        worst/largest values) of these features were computed for each image,\\n        resulting in 30 features.  For instance, field 0 is Mean Radius, field\\n        10 is Radius SE, field 20 is Worst Radius.\\n\\n        - class:\\n                - WDBC-Malignant\\n                - WDBC-Benign\\n\\n    :Summary Statistics:\\n\\n    ===================================== ====== ======\\n                                           Min    Max\\n    ===================================== ====== ======\\n    radius (mean):                        6.981  28.11\\n    texture (mean):                       9.71   39.28\\n    perimeter (mean):                     43.79  188.5\\n    area (mean):                          143.5  2501.0\\n    smoothness (mean):                    0.053  0.163\\n    compactness (mean):                   0.019  0.345\\n    concavity (mean):                     0.0    0.427\\n    concave points (mean):                0.0    0.201\\n    symmetry (mean):                      0.106  0.304\\n    fractal dimension (mean):             0.05   0.097\\n    radius (standard error):              0.112  2.873\\n    texture (standard error):             0.36   4.885\\n    perimeter (standard error):           0.757  21.98\\n    area (standard error):                6.802  542.2\\n    smoothness (standard error):          0.002  0.031\\n    compactness (standard error):         0.002  0.135\\n    concavity (standard error):           0.0    0.396\\n    concave points (standard error):      0.0    0.053\\n    symmetry (standard error):            0.008  0.079\\n    fractal dimension (standard error):   0.001  0.03\\n    radius (worst):                       7.93   36.04\\n    texture (worst):                      12.02  49.54\\n    perimeter (worst):                    50.41  251.2\\n    area (worst):                         185.2  4254.0\\n    smoothness (worst):                   0.071  0.223\\n    compactness (worst):                  0.027  1.058\\n    concavity (worst):                    0.0    1.252\\n    concave points (worst):               0.0    0.291\\n    symmetry (worst):                     0.156  0.664\\n    fractal dimension (worst):            0.055  0.208\\n    ===================================== ====== ======\\n\\n    :Missing Attribute Values: None\\n\\n    :Class Distribution: 212 - Malignant, 357 - Benign\\n\\n    :Creator:  Dr. William H. Wolberg, W. Nick Street, Olvi L. Mangasarian\\n\\n    :Donor: Nick Street\\n\\n    :Date: November, 1995\\n\\nThis is a copy of UCI ML Breast Cancer Wisconsin (Diagnostic) datasets.\\nhttps://goo.gl/U2Uwz2\\n\\nFeatures are computed from a digitized image of a fine needle\\naspirate (FNA) of a breast mass.  They describe\\ncharacteristics of the cell nuclei present in the image.\\n\\nSeparating plane described above was obtained using\\nMultisurface Method-Tree (MSM-T) [K. P. Bennett, \"Decision Tree\\nConstruction Via Linear Programming.\" Proceedings of the 4th\\nMidwest Artificial Intelligence and Cognitive Science Society,\\npp. 97-101, 1992], a classification method which uses linear\\nprogramming to construct a decision tree.  Relevant features\\nwere selected using an exhaustive search in the space of 1-4\\nfeatures and 1-3 separating planes.\\n\\nThe actual linear program used to obtain the separating plane\\nin the 3-dimensional space is that described in:\\n[K. P. Bennett and O. L. Mangasarian: \"Robust Linear\\nProgramming Discrimination of Two Linearly Inseparable Sets\",\\nOptimization Methods and Software 1, 1992, 23-34].\\n\\nThis database is also available through the UW CS ftp server:\\n\\nftp ftp.cs.wisc.edu\\ncd math-prog/cpo-dataset/machine-learn/WDBC/\\n\\n.. topic:: References\\n\\n   - W.N. Street, W.H. Wolberg and O.L. Mangasarian. Nuclear feature extraction \\n     for breast tumor diagnosis. IS&T/SPIE 1993 International Symposium on \\n     Electronic Imaging: Science and Technology, volume 1905, pages 861-870,\\n     San Jose, CA, 1993.\\n   - O.L. Mangasarian, W.N. Street and W.H. Wolberg. Breast cancer diagnosis and \\n     prognosis via linear programming. Operations Research, 43(4), pages 570-577, \\n     July-August 1995.\\n   - W.H. Wolberg, W.N. Street, and O.L. Mangasarian. Machine learning techniques\\n     to diagnose breast cancer from fine-needle aspirates. Cancer Letters 77 (1994) \\n     163-171.',\n",
              " 'feature_names': array(['mean radius', 'mean texture', 'mean perimeter', 'mean area',\n",
              "        'mean smoothness', 'mean compactness', 'mean concavity',\n",
              "        'mean concave points', 'mean symmetry', 'mean fractal dimension',\n",
              "        'radius error', 'texture error', 'perimeter error', 'area error',\n",
              "        'smoothness error', 'compactness error', 'concavity error',\n",
              "        'concave points error', 'symmetry error',\n",
              "        'fractal dimension error', 'worst radius', 'worst texture',\n",
              "        'worst perimeter', 'worst area', 'worst smoothness',\n",
              "        'worst compactness', 'worst concavity', 'worst concave points',\n",
              "        'worst symmetry', 'worst fractal dimension'], dtype='<U23'),\n",
              " 'filename': 'breast_cancer.csv',\n",
              " 'data_module': 'sklearn.datasets.data'}"
            ]
          },
          "metadata": {},
          "execution_count": 40
        }
      ]
    },
    {
      "cell_type": "code",
      "source": [
        "type(data)"
      ],
      "metadata": {
        "colab": {
          "base_uri": "https://localhost:8080/"
        },
        "id": "H_UPO0ZafRZU",
        "outputId": "1d4e43bb-3755-4f8a-e0a3-b4989c48b649"
      },
      "execution_count": null,
      "outputs": [
        {
          "output_type": "execute_result",
          "data": {
            "text/plain": [
              "sklearn.utils._bunch.Bunch"
            ]
          },
          "metadata": {},
          "execution_count": 41
        }
      ]
    },
    {
      "cell_type": "code",
      "source": [
        "data.keys()"
      ],
      "metadata": {
        "colab": {
          "base_uri": "https://localhost:8080/"
        },
        "id": "QAupkWTufVev",
        "outputId": "c943dc8f-0fc9-49a4-f05f-b67f5f2796bb"
      },
      "execution_count": null,
      "outputs": [
        {
          "output_type": "execute_result",
          "data": {
            "text/plain": [
              "dict_keys(['data', 'target', 'frame', 'target_names', 'DESCR', 'feature_names', 'filename', 'data_module'])"
            ]
          },
          "metadata": {},
          "execution_count": 42
        }
      ]
    },
    {
      "cell_type": "code",
      "source": [
        "data.data"
      ],
      "metadata": {
        "colab": {
          "base_uri": "https://localhost:8080/"
        },
        "id": "Ec0bgxH4feYY",
        "outputId": "64b762e5-0395-4d04-8771-d994907d8ca6"
      },
      "execution_count": null,
      "outputs": [
        {
          "output_type": "execute_result",
          "data": {
            "text/plain": [
              "array([[1.799e+01, 1.038e+01, 1.228e+02, ..., 2.654e-01, 4.601e-01,\n",
              "        1.189e-01],\n",
              "       [2.057e+01, 1.777e+01, 1.329e+02, ..., 1.860e-01, 2.750e-01,\n",
              "        8.902e-02],\n",
              "       [1.969e+01, 2.125e+01, 1.300e+02, ..., 2.430e-01, 3.613e-01,\n",
              "        8.758e-02],\n",
              "       ...,\n",
              "       [1.660e+01, 2.808e+01, 1.083e+02, ..., 1.418e-01, 2.218e-01,\n",
              "        7.820e-02],\n",
              "       [2.060e+01, 2.933e+01, 1.401e+02, ..., 2.650e-01, 4.087e-01,\n",
              "        1.240e-01],\n",
              "       [7.760e+00, 2.454e+01, 4.792e+01, ..., 0.000e+00, 2.871e-01,\n",
              "        7.039e-02]])"
            ]
          },
          "metadata": {},
          "execution_count": 43
        }
      ]
    },
    {
      "cell_type": "code",
      "source": [
        "# Number of samples and the dimension\n",
        "data.data.shape"
      ],
      "metadata": {
        "colab": {
          "base_uri": "https://localhost:8080/"
        },
        "id": "vOq_6pgNfl64",
        "outputId": "b55fff33-66ae-48f4-aee5-67da2a47784c"
      },
      "execution_count": null,
      "outputs": [
        {
          "output_type": "execute_result",
          "data": {
            "text/plain": [
              "(569, 30)"
            ]
          },
          "metadata": {},
          "execution_count": 44
        }
      ]
    },
    {
      "cell_type": "code",
      "source": [
        "data.target"
      ],
      "metadata": {
        "colab": {
          "base_uri": "https://localhost:8080/"
        },
        "id": "Z4oJ35QgfpPN",
        "outputId": "6f07e267-4d09-4492-a0a8-e196beabcf59"
      },
      "execution_count": null,
      "outputs": [
        {
          "output_type": "execute_result",
          "data": {
            "text/plain": [
              "array([0, 0, 0, 0, 0, 0, 0, 0, 0, 0, 0, 0, 0, 0, 0, 0, 0, 0, 0, 1, 1, 1,\n",
              "       0, 0, 0, 0, 0, 0, 0, 0, 0, 0, 0, 0, 0, 0, 0, 1, 0, 0, 0, 0, 0, 0,\n",
              "       0, 0, 1, 0, 1, 1, 1, 1, 1, 0, 0, 1, 0, 0, 1, 1, 1, 1, 0, 1, 0, 0,\n",
              "       1, 1, 1, 1, 0, 1, 0, 0, 1, 0, 1, 0, 0, 1, 1, 1, 0, 0, 1, 0, 0, 0,\n",
              "       1, 1, 1, 0, 1, 1, 0, 0, 1, 1, 1, 0, 0, 1, 1, 1, 1, 0, 1, 1, 0, 1,\n",
              "       1, 1, 1, 1, 1, 1, 1, 0, 0, 0, 1, 0, 0, 1, 1, 1, 0, 0, 1, 0, 1, 0,\n",
              "       0, 1, 0, 0, 1, 1, 0, 1, 1, 0, 1, 1, 1, 1, 0, 1, 1, 1, 1, 1, 1, 1,\n",
              "       1, 1, 0, 1, 1, 1, 1, 0, 0, 1, 0, 1, 1, 0, 0, 1, 1, 0, 0, 1, 1, 1,\n",
              "       1, 0, 1, 1, 0, 0, 0, 1, 0, 1, 0, 1, 1, 1, 0, 1, 1, 0, 0, 1, 0, 0,\n",
              "       0, 0, 1, 0, 0, 0, 1, 0, 1, 0, 1, 1, 0, 1, 0, 0, 0, 0, 1, 1, 0, 0,\n",
              "       1, 1, 1, 0, 1, 1, 1, 1, 1, 0, 0, 1, 1, 0, 1, 1, 0, 0, 1, 0, 1, 1,\n",
              "       1, 1, 0, 1, 1, 1, 1, 1, 0, 1, 0, 0, 0, 0, 0, 0, 0, 0, 0, 0, 0, 0,\n",
              "       0, 0, 1, 1, 1, 1, 1, 1, 0, 1, 0, 1, 1, 0, 1, 1, 0, 1, 0, 0, 1, 1,\n",
              "       1, 1, 1, 1, 1, 1, 1, 1, 1, 1, 1, 0, 1, 1, 0, 1, 0, 1, 1, 1, 1, 1,\n",
              "       1, 1, 1, 1, 1, 1, 1, 1, 1, 0, 1, 1, 1, 0, 1, 0, 1, 1, 1, 1, 0, 0,\n",
              "       0, 1, 1, 1, 1, 0, 1, 0, 1, 0, 1, 1, 1, 0, 1, 1, 1, 1, 1, 1, 1, 0,\n",
              "       0, 0, 1, 1, 1, 1, 1, 1, 1, 1, 1, 1, 1, 0, 0, 1, 0, 0, 0, 1, 0, 0,\n",
              "       1, 1, 1, 1, 1, 0, 1, 1, 1, 1, 1, 0, 1, 1, 1, 0, 1, 1, 0, 0, 1, 1,\n",
              "       1, 1, 1, 1, 0, 1, 1, 1, 1, 1, 1, 1, 0, 1, 1, 1, 1, 1, 0, 1, 1, 0,\n",
              "       1, 1, 1, 1, 1, 1, 1, 1, 1, 1, 1, 1, 0, 1, 0, 0, 1, 0, 1, 1, 1, 1,\n",
              "       1, 0, 1, 1, 0, 1, 0, 1, 1, 0, 1, 0, 1, 1, 1, 1, 1, 1, 1, 1, 0, 0,\n",
              "       1, 1, 1, 1, 1, 1, 0, 1, 1, 1, 1, 1, 1, 1, 1, 1, 1, 0, 1, 1, 1, 1,\n",
              "       1, 1, 1, 0, 1, 0, 1, 1, 0, 1, 1, 1, 1, 1, 0, 0, 1, 0, 1, 0, 1, 1,\n",
              "       1, 1, 1, 0, 1, 1, 0, 1, 0, 1, 0, 0, 1, 1, 1, 0, 1, 1, 1, 1, 1, 1,\n",
              "       1, 1, 1, 1, 1, 0, 1, 0, 0, 1, 1, 1, 1, 1, 1, 1, 1, 1, 1, 1, 1, 1,\n",
              "       1, 1, 1, 1, 1, 1, 1, 1, 1, 1, 1, 1, 0, 0, 0, 0, 0, 0, 1])"
            ]
          },
          "metadata": {},
          "execution_count": 45
        }
      ]
    },
    {
      "cell_type": "code",
      "source": [
        "data.target_names"
      ],
      "metadata": {
        "colab": {
          "base_uri": "https://localhost:8080/"
        },
        "id": "5pMeqVl2f1-y",
        "outputId": "d6054fe8-facc-4380-d828-9e207fc5abda"
      },
      "execution_count": null,
      "outputs": [
        {
          "output_type": "execute_result",
          "data": {
            "text/plain": [
              "array(['malignant', 'benign'], dtype='<U9')"
            ]
          },
          "metadata": {},
          "execution_count": 46
        }
      ]
    },
    {
      "cell_type": "code",
      "source": [
        "data.target.shape"
      ],
      "metadata": {
        "colab": {
          "base_uri": "https://localhost:8080/"
        },
        "id": "QuxUGMagf_WI",
        "outputId": "1cbe1636-d582-4dcb-d600-c8aaca6c0576"
      },
      "execution_count": null,
      "outputs": [
        {
          "output_type": "execute_result",
          "data": {
            "text/plain": [
              "(569,)"
            ]
          },
          "metadata": {},
          "execution_count": 47
        }
      ]
    },
    {
      "cell_type": "code",
      "source": [
        "data.feature_names"
      ],
      "metadata": {
        "colab": {
          "base_uri": "https://localhost:8080/"
        },
        "id": "4SzMDxoCgFMy",
        "outputId": "dcc1d182-e3af-474b-cd08-eb32e471bc73"
      },
      "execution_count": null,
      "outputs": [
        {
          "output_type": "execute_result",
          "data": {
            "text/plain": [
              "array(['mean radius', 'mean texture', 'mean perimeter', 'mean area',\n",
              "       'mean smoothness', 'mean compactness', 'mean concavity',\n",
              "       'mean concave points', 'mean symmetry', 'mean fractal dimension',\n",
              "       'radius error', 'texture error', 'perimeter error', 'area error',\n",
              "       'smoothness error', 'compactness error', 'concavity error',\n",
              "       'concave points error', 'symmetry error',\n",
              "       'fractal dimension error', 'worst radius', 'worst texture',\n",
              "       'worst perimeter', 'worst area', 'worst smoothness',\n",
              "       'worst compactness', 'worst concavity', 'worst concave points',\n",
              "       'worst symmetry', 'worst fractal dimension'], dtype='<U23')"
            ]
          },
          "metadata": {},
          "execution_count": 48
        }
      ]
    },
    {
      "cell_type": "code",
      "source": [
        "from sklearn.model_selection import train_test_split\n",
        "\n",
        "X_train, X_test, y_train, y_test = train_test_split(\n",
        "    data.data, data.target, test_size=0.33)"
      ],
      "metadata": {
        "id": "yyJdjJXHgvZ0"
      },
      "execution_count": null,
      "outputs": []
    },
    {
      "cell_type": "code",
      "source": [
        "N, D = X_train.shape"
      ],
      "metadata": {
        "id": "UGqOTxm_jncw"
      },
      "execution_count": null,
      "outputs": []
    },
    {
      "cell_type": "code",
      "source": [
        "N, D"
      ],
      "metadata": {
        "colab": {
          "base_uri": "https://localhost:8080/"
        },
        "id": "aGyQHrVejpGk",
        "outputId": "b7e2976b-ab99-41b2-a11a-9f7c9d0e2116"
      },
      "execution_count": null,
      "outputs": [
        {
          "output_type": "execute_result",
          "data": {
            "text/plain": [
              "(381, 30)"
            ]
          },
          "metadata": {},
          "execution_count": 51
        }
      ]
    },
    {
      "cell_type": "code",
      "source": [
        "from sklearn.preprocessing import StandardScaler\n",
        "\n",
        "scaler = StandardScaler()\n",
        "X_train = scaler.fit_transform(X_train)\n",
        "X_test = scaler.transform(X_test)"
      ],
      "metadata": {
        "id": "45-vjw2Mjqte"
      },
      "execution_count": null,
      "outputs": []
    },
    {
      "cell_type": "code",
      "source": [
        "model = tf.keras.models.Sequential([\n",
        "    tf.keras.layers.Input(shape=(D,)), # indicates that the expected input will be batches of `D` dimensional vectors\n",
        "    tf.keras.layers.Dense(1, activation='sigmoid')\n",
        "])"
      ],
      "metadata": {
        "id": "CEMu5kEzmSUe"
      },
      "execution_count": null,
      "outputs": []
    },
    {
      "cell_type": "code",
      "source": [
        "model.compile(optimizer='adam', \n",
        "              loss='binary_crossentropy', \n",
        "              metrics=['accuracy'])"
      ],
      "metadata": {
        "id": "w1KgheOGo0-c"
      },
      "execution_count": null,
      "outputs": []
    },
    {
      "cell_type": "code",
      "source": [
        "# Train the model\n",
        "result = model.fit(X_train, y_train, validation_data=(X_test, y_test), epochs=100)"
      ],
      "metadata": {
        "colab": {
          "base_uri": "https://localhost:8080/"
        },
        "id": "8zi0Bm8zWPwh",
        "outputId": "49321324-0673-4211-ffb4-03d097c2e10c"
      },
      "execution_count": null,
      "outputs": [
        {
          "output_type": "stream",
          "name": "stdout",
          "text": [
            "Epoch 1/100\n",
            "12/12 [==============================] - 1s 44ms/step - loss: 0.7183 - accuracy: 0.6404 - val_loss: 0.7025 - val_accuracy: 0.5904\n",
            "Epoch 2/100\n",
            "12/12 [==============================] - 0s 6ms/step - loss: 0.6603 - accuracy: 0.6824 - val_loss: 0.6409 - val_accuracy: 0.6649\n",
            "Epoch 3/100\n",
            "12/12 [==============================] - 0s 6ms/step - loss: 0.6110 - accuracy: 0.7218 - val_loss: 0.5869 - val_accuracy: 0.7021\n",
            "Epoch 4/100\n",
            "12/12 [==============================] - 0s 5ms/step - loss: 0.5675 - accuracy: 0.7612 - val_loss: 0.5408 - val_accuracy: 0.7553\n",
            "Epoch 5/100\n",
            "12/12 [==============================] - 0s 5ms/step - loss: 0.5292 - accuracy: 0.7717 - val_loss: 0.5017 - val_accuracy: 0.7819\n",
            "Epoch 6/100\n",
            "12/12 [==============================] - 0s 6ms/step - loss: 0.4953 - accuracy: 0.8031 - val_loss: 0.4682 - val_accuracy: 0.7979\n",
            "Epoch 7/100\n",
            "12/12 [==============================] - 0s 5ms/step - loss: 0.4654 - accuracy: 0.8189 - val_loss: 0.4396 - val_accuracy: 0.8138\n",
            "Epoch 8/100\n",
            "12/12 [==============================] - 0s 6ms/step - loss: 0.4393 - accuracy: 0.8320 - val_loss: 0.4144 - val_accuracy: 0.8511\n",
            "Epoch 9/100\n",
            "12/12 [==============================] - 0s 6ms/step - loss: 0.4159 - accuracy: 0.8504 - val_loss: 0.3920 - val_accuracy: 0.8617\n",
            "Epoch 10/100\n",
            "12/12 [==============================] - 0s 6ms/step - loss: 0.3945 - accuracy: 0.8583 - val_loss: 0.3725 - val_accuracy: 0.8777\n",
            "Epoch 11/100\n",
            "12/12 [==============================] - 0s 5ms/step - loss: 0.3756 - accuracy: 0.8688 - val_loss: 0.3548 - val_accuracy: 0.8830\n",
            "Epoch 12/100\n",
            "12/12 [==============================] - 0s 5ms/step - loss: 0.3583 - accuracy: 0.8793 - val_loss: 0.3388 - val_accuracy: 0.8883\n",
            "Epoch 13/100\n",
            "12/12 [==============================] - 0s 5ms/step - loss: 0.3424 - accuracy: 0.8924 - val_loss: 0.3245 - val_accuracy: 0.8936\n",
            "Epoch 14/100\n",
            "12/12 [==============================] - 0s 5ms/step - loss: 0.3283 - accuracy: 0.9003 - val_loss: 0.3114 - val_accuracy: 0.8936\n",
            "Epoch 15/100\n",
            "12/12 [==============================] - 0s 6ms/step - loss: 0.3148 - accuracy: 0.9003 - val_loss: 0.2997 - val_accuracy: 0.8936\n",
            "Epoch 16/100\n",
            "12/12 [==============================] - 0s 6ms/step - loss: 0.3030 - accuracy: 0.9029 - val_loss: 0.2886 - val_accuracy: 0.8936\n",
            "Epoch 17/100\n",
            "12/12 [==============================] - 0s 5ms/step - loss: 0.2914 - accuracy: 0.9108 - val_loss: 0.2789 - val_accuracy: 0.9043\n",
            "Epoch 18/100\n",
            "12/12 [==============================] - 0s 7ms/step - loss: 0.2816 - accuracy: 0.9108 - val_loss: 0.2695 - val_accuracy: 0.9149\n",
            "Epoch 19/100\n",
            "12/12 [==============================] - 0s 6ms/step - loss: 0.2716 - accuracy: 0.9160 - val_loss: 0.2611 - val_accuracy: 0.9255\n",
            "Epoch 20/100\n",
            "12/12 [==============================] - 0s 6ms/step - loss: 0.2627 - accuracy: 0.9186 - val_loss: 0.2532 - val_accuracy: 0.9255\n",
            "Epoch 21/100\n",
            "12/12 [==============================] - 0s 6ms/step - loss: 0.2547 - accuracy: 0.9186 - val_loss: 0.2456 - val_accuracy: 0.9309\n",
            "Epoch 22/100\n",
            "12/12 [==============================] - 0s 6ms/step - loss: 0.2470 - accuracy: 0.9186 - val_loss: 0.2388 - val_accuracy: 0.9309\n",
            "Epoch 23/100\n",
            "12/12 [==============================] - 0s 5ms/step - loss: 0.2396 - accuracy: 0.9239 - val_loss: 0.2324 - val_accuracy: 0.9309\n",
            "Epoch 24/100\n",
            "12/12 [==============================] - 0s 7ms/step - loss: 0.2328 - accuracy: 0.9265 - val_loss: 0.2265 - val_accuracy: 0.9309\n",
            "Epoch 25/100\n",
            "12/12 [==============================] - 0s 6ms/step - loss: 0.2264 - accuracy: 0.9265 - val_loss: 0.2209 - val_accuracy: 0.9309\n",
            "Epoch 26/100\n",
            "12/12 [==============================] - 0s 8ms/step - loss: 0.2207 - accuracy: 0.9291 - val_loss: 0.2156 - val_accuracy: 0.9309\n",
            "Epoch 27/100\n",
            "12/12 [==============================] - 0s 7ms/step - loss: 0.2149 - accuracy: 0.9318 - val_loss: 0.2106 - val_accuracy: 0.9309\n",
            "Epoch 28/100\n",
            "12/12 [==============================] - 0s 7ms/step - loss: 0.2092 - accuracy: 0.9318 - val_loss: 0.2062 - val_accuracy: 0.9309\n",
            "Epoch 29/100\n",
            "12/12 [==============================] - 0s 8ms/step - loss: 0.2044 - accuracy: 0.9318 - val_loss: 0.2017 - val_accuracy: 0.9255\n",
            "Epoch 30/100\n",
            "12/12 [==============================] - 0s 8ms/step - loss: 0.1995 - accuracy: 0.9344 - val_loss: 0.1976 - val_accuracy: 0.9255\n",
            "Epoch 31/100\n",
            "12/12 [==============================] - 0s 9ms/step - loss: 0.1950 - accuracy: 0.9396 - val_loss: 0.1936 - val_accuracy: 0.9309\n",
            "Epoch 32/100\n",
            "12/12 [==============================] - 0s 7ms/step - loss: 0.1906 - accuracy: 0.9423 - val_loss: 0.1899 - val_accuracy: 0.9309\n",
            "Epoch 33/100\n",
            "12/12 [==============================] - 0s 8ms/step - loss: 0.1867 - accuracy: 0.9423 - val_loss: 0.1862 - val_accuracy: 0.9309\n",
            "Epoch 34/100\n",
            "12/12 [==============================] - 0s 7ms/step - loss: 0.1828 - accuracy: 0.9423 - val_loss: 0.1828 - val_accuracy: 0.9362\n",
            "Epoch 35/100\n",
            "12/12 [==============================] - 0s 8ms/step - loss: 0.1789 - accuracy: 0.9423 - val_loss: 0.1796 - val_accuracy: 0.9362\n",
            "Epoch 36/100\n",
            "12/12 [==============================] - 0s 10ms/step - loss: 0.1753 - accuracy: 0.9423 - val_loss: 0.1767 - val_accuracy: 0.9362\n",
            "Epoch 37/100\n",
            "12/12 [==============================] - 0s 7ms/step - loss: 0.1719 - accuracy: 0.9449 - val_loss: 0.1738 - val_accuracy: 0.9362\n",
            "Epoch 38/100\n",
            "12/12 [==============================] - 0s 6ms/step - loss: 0.1687 - accuracy: 0.9475 - val_loss: 0.1710 - val_accuracy: 0.9362\n",
            "Epoch 39/100\n",
            "12/12 [==============================] - 0s 7ms/step - loss: 0.1658 - accuracy: 0.9501 - val_loss: 0.1683 - val_accuracy: 0.9415\n",
            "Epoch 40/100\n",
            "12/12 [==============================] - 0s 8ms/step - loss: 0.1627 - accuracy: 0.9554 - val_loss: 0.1657 - val_accuracy: 0.9415\n",
            "Epoch 41/100\n",
            "12/12 [==============================] - 0s 7ms/step - loss: 0.1598 - accuracy: 0.9554 - val_loss: 0.1633 - val_accuracy: 0.9415\n",
            "Epoch 42/100\n",
            "12/12 [==============================] - 0s 8ms/step - loss: 0.1570 - accuracy: 0.9580 - val_loss: 0.1612 - val_accuracy: 0.9415\n",
            "Epoch 43/100\n",
            "12/12 [==============================] - 0s 7ms/step - loss: 0.1545 - accuracy: 0.9633 - val_loss: 0.1589 - val_accuracy: 0.9415\n",
            "Epoch 44/100\n",
            "12/12 [==============================] - 0s 7ms/step - loss: 0.1521 - accuracy: 0.9633 - val_loss: 0.1567 - val_accuracy: 0.9415\n",
            "Epoch 45/100\n",
            "12/12 [==============================] - 0s 7ms/step - loss: 0.1496 - accuracy: 0.9633 - val_loss: 0.1547 - val_accuracy: 0.9468\n",
            "Epoch 46/100\n",
            "12/12 [==============================] - 0s 7ms/step - loss: 0.1473 - accuracy: 0.9633 - val_loss: 0.1527 - val_accuracy: 0.9521\n",
            "Epoch 47/100\n",
            "12/12 [==============================] - 0s 8ms/step - loss: 0.1450 - accuracy: 0.9659 - val_loss: 0.1509 - val_accuracy: 0.9574\n",
            "Epoch 48/100\n",
            "12/12 [==============================] - 0s 8ms/step - loss: 0.1429 - accuracy: 0.9685 - val_loss: 0.1492 - val_accuracy: 0.9628\n",
            "Epoch 49/100\n",
            "12/12 [==============================] - 0s 6ms/step - loss: 0.1408 - accuracy: 0.9685 - val_loss: 0.1474 - val_accuracy: 0.9628\n",
            "Epoch 50/100\n",
            "12/12 [==============================] - 0s 7ms/step - loss: 0.1389 - accuracy: 0.9685 - val_loss: 0.1457 - val_accuracy: 0.9628\n",
            "Epoch 51/100\n",
            "12/12 [==============================] - 0s 7ms/step - loss: 0.1371 - accuracy: 0.9685 - val_loss: 0.1440 - val_accuracy: 0.9628\n",
            "Epoch 52/100\n",
            "12/12 [==============================] - 0s 7ms/step - loss: 0.1351 - accuracy: 0.9685 - val_loss: 0.1425 - val_accuracy: 0.9628\n",
            "Epoch 53/100\n",
            "12/12 [==============================] - 0s 7ms/step - loss: 0.1333 - accuracy: 0.9685 - val_loss: 0.1410 - val_accuracy: 0.9628\n",
            "Epoch 54/100\n",
            "12/12 [==============================] - 0s 9ms/step - loss: 0.1317 - accuracy: 0.9738 - val_loss: 0.1396 - val_accuracy: 0.9628\n",
            "Epoch 55/100\n",
            "12/12 [==============================] - 0s 8ms/step - loss: 0.1300 - accuracy: 0.9738 - val_loss: 0.1382 - val_accuracy: 0.9628\n",
            "Epoch 56/100\n",
            "12/12 [==============================] - 0s 8ms/step - loss: 0.1284 - accuracy: 0.9738 - val_loss: 0.1369 - val_accuracy: 0.9628\n",
            "Epoch 57/100\n",
            "12/12 [==============================] - 0s 6ms/step - loss: 0.1269 - accuracy: 0.9738 - val_loss: 0.1355 - val_accuracy: 0.9628\n",
            "Epoch 58/100\n",
            "12/12 [==============================] - 0s 5ms/step - loss: 0.1254 - accuracy: 0.9738 - val_loss: 0.1344 - val_accuracy: 0.9628\n",
            "Epoch 59/100\n",
            "12/12 [==============================] - 0s 5ms/step - loss: 0.1239 - accuracy: 0.9738 - val_loss: 0.1331 - val_accuracy: 0.9628\n",
            "Epoch 60/100\n",
            "12/12 [==============================] - 0s 5ms/step - loss: 0.1226 - accuracy: 0.9764 - val_loss: 0.1319 - val_accuracy: 0.9628\n",
            "Epoch 61/100\n",
            "12/12 [==============================] - 0s 5ms/step - loss: 0.1212 - accuracy: 0.9764 - val_loss: 0.1308 - val_accuracy: 0.9628\n",
            "Epoch 62/100\n",
            "12/12 [==============================] - 0s 6ms/step - loss: 0.1199 - accuracy: 0.9764 - val_loss: 0.1297 - val_accuracy: 0.9628\n",
            "Epoch 63/100\n",
            "12/12 [==============================] - 0s 5ms/step - loss: 0.1186 - accuracy: 0.9764 - val_loss: 0.1287 - val_accuracy: 0.9628\n",
            "Epoch 64/100\n",
            "12/12 [==============================] - 0s 7ms/step - loss: 0.1174 - accuracy: 0.9764 - val_loss: 0.1276 - val_accuracy: 0.9681\n",
            "Epoch 65/100\n",
            "12/12 [==============================] - 0s 5ms/step - loss: 0.1162 - accuracy: 0.9764 - val_loss: 0.1266 - val_accuracy: 0.9681\n",
            "Epoch 66/100\n",
            "12/12 [==============================] - 0s 6ms/step - loss: 0.1150 - accuracy: 0.9764 - val_loss: 0.1256 - val_accuracy: 0.9681\n",
            "Epoch 67/100\n",
            "12/12 [==============================] - 0s 5ms/step - loss: 0.1138 - accuracy: 0.9764 - val_loss: 0.1247 - val_accuracy: 0.9681\n",
            "Epoch 68/100\n",
            "12/12 [==============================] - 0s 6ms/step - loss: 0.1128 - accuracy: 0.9764 - val_loss: 0.1238 - val_accuracy: 0.9681\n",
            "Epoch 69/100\n",
            "12/12 [==============================] - 0s 6ms/step - loss: 0.1117 - accuracy: 0.9764 - val_loss: 0.1229 - val_accuracy: 0.9734\n",
            "Epoch 70/100\n",
            "12/12 [==============================] - 0s 6ms/step - loss: 0.1107 - accuracy: 0.9764 - val_loss: 0.1220 - val_accuracy: 0.9734\n",
            "Epoch 71/100\n",
            "12/12 [==============================] - 0s 6ms/step - loss: 0.1096 - accuracy: 0.9764 - val_loss: 0.1212 - val_accuracy: 0.9734\n",
            "Epoch 72/100\n",
            "12/12 [==============================] - 0s 5ms/step - loss: 0.1086 - accuracy: 0.9764 - val_loss: 0.1203 - val_accuracy: 0.9734\n",
            "Epoch 73/100\n",
            "12/12 [==============================] - 0s 5ms/step - loss: 0.1077 - accuracy: 0.9764 - val_loss: 0.1196 - val_accuracy: 0.9734\n",
            "Epoch 74/100\n",
            "12/12 [==============================] - 0s 5ms/step - loss: 0.1067 - accuracy: 0.9764 - val_loss: 0.1188 - val_accuracy: 0.9734\n",
            "Epoch 75/100\n",
            "12/12 [==============================] - 0s 6ms/step - loss: 0.1058 - accuracy: 0.9764 - val_loss: 0.1180 - val_accuracy: 0.9734\n",
            "Epoch 76/100\n",
            "12/12 [==============================] - 0s 5ms/step - loss: 0.1049 - accuracy: 0.9790 - val_loss: 0.1173 - val_accuracy: 0.9734\n",
            "Epoch 77/100\n",
            "12/12 [==============================] - 0s 5ms/step - loss: 0.1040 - accuracy: 0.9790 - val_loss: 0.1166 - val_accuracy: 0.9734\n",
            "Epoch 78/100\n",
            "12/12 [==============================] - 0s 5ms/step - loss: 0.1031 - accuracy: 0.9790 - val_loss: 0.1159 - val_accuracy: 0.9734\n",
            "Epoch 79/100\n",
            "12/12 [==============================] - 0s 6ms/step - loss: 0.1023 - accuracy: 0.9790 - val_loss: 0.1152 - val_accuracy: 0.9787\n",
            "Epoch 80/100\n",
            "12/12 [==============================] - 0s 6ms/step - loss: 0.1015 - accuracy: 0.9790 - val_loss: 0.1146 - val_accuracy: 0.9787\n",
            "Epoch 81/100\n",
            "12/12 [==============================] - 0s 5ms/step - loss: 0.1007 - accuracy: 0.9790 - val_loss: 0.1138 - val_accuracy: 0.9787\n",
            "Epoch 82/100\n",
            "12/12 [==============================] - 0s 6ms/step - loss: 0.0999 - accuracy: 0.9790 - val_loss: 0.1131 - val_accuracy: 0.9787\n",
            "Epoch 83/100\n",
            "12/12 [==============================] - 0s 5ms/step - loss: 0.0991 - accuracy: 0.9790 - val_loss: 0.1126 - val_accuracy: 0.9787\n",
            "Epoch 84/100\n",
            "12/12 [==============================] - 0s 5ms/step - loss: 0.0984 - accuracy: 0.9790 - val_loss: 0.1120 - val_accuracy: 0.9734\n",
            "Epoch 85/100\n",
            "12/12 [==============================] - 0s 5ms/step - loss: 0.0977 - accuracy: 0.9790 - val_loss: 0.1114 - val_accuracy: 0.9734\n",
            "Epoch 86/100\n",
            "12/12 [==============================] - 0s 6ms/step - loss: 0.0969 - accuracy: 0.9790 - val_loss: 0.1109 - val_accuracy: 0.9734\n",
            "Epoch 87/100\n",
            "12/12 [==============================] - 0s 5ms/step - loss: 0.0962 - accuracy: 0.9790 - val_loss: 0.1103 - val_accuracy: 0.9734\n",
            "Epoch 88/100\n",
            "12/12 [==============================] - 0s 5ms/step - loss: 0.0956 - accuracy: 0.9816 - val_loss: 0.1098 - val_accuracy: 0.9734\n",
            "Epoch 89/100\n",
            "12/12 [==============================] - 0s 6ms/step - loss: 0.0949 - accuracy: 0.9816 - val_loss: 0.1092 - val_accuracy: 0.9734\n",
            "Epoch 90/100\n",
            "12/12 [==============================] - 0s 5ms/step - loss: 0.0942 - accuracy: 0.9816 - val_loss: 0.1087 - val_accuracy: 0.9734\n",
            "Epoch 91/100\n",
            "12/12 [==============================] - 0s 5ms/step - loss: 0.0936 - accuracy: 0.9816 - val_loss: 0.1082 - val_accuracy: 0.9734\n",
            "Epoch 92/100\n",
            "12/12 [==============================] - 0s 6ms/step - loss: 0.0929 - accuracy: 0.9816 - val_loss: 0.1077 - val_accuracy: 0.9734\n",
            "Epoch 93/100\n",
            "12/12 [==============================] - 0s 6ms/step - loss: 0.0923 - accuracy: 0.9816 - val_loss: 0.1072 - val_accuracy: 0.9734\n",
            "Epoch 94/100\n",
            "12/12 [==============================] - 0s 5ms/step - loss: 0.0917 - accuracy: 0.9816 - val_loss: 0.1067 - val_accuracy: 0.9734\n",
            "Epoch 95/100\n",
            "12/12 [==============================] - 0s 5ms/step - loss: 0.0911 - accuracy: 0.9816 - val_loss: 0.1062 - val_accuracy: 0.9734\n",
            "Epoch 96/100\n",
            "12/12 [==============================] - 0s 6ms/step - loss: 0.0905 - accuracy: 0.9816 - val_loss: 0.1058 - val_accuracy: 0.9734\n",
            "Epoch 97/100\n",
            "12/12 [==============================] - 0s 6ms/step - loss: 0.0899 - accuracy: 0.9816 - val_loss: 0.1054 - val_accuracy: 0.9734\n",
            "Epoch 98/100\n",
            "12/12 [==============================] - 0s 5ms/step - loss: 0.0894 - accuracy: 0.9816 - val_loss: 0.1049 - val_accuracy: 0.9734\n",
            "Epoch 99/100\n",
            "12/12 [==============================] - 0s 5ms/step - loss: 0.0888 - accuracy: 0.9816 - val_loss: 0.1045 - val_accuracy: 0.9734\n",
            "Epoch 100/100\n",
            "12/12 [==============================] - 0s 5ms/step - loss: 0.0883 - accuracy: 0.9816 - val_loss: 0.1041 - val_accuracy: 0.9734\n"
          ]
        }
      ]
    },
    {
      "cell_type": "code",
      "source": [
        "print(\"Train score:\", model.evaluate(X_train, y_train))\n",
        "print(\"Test score:\", model.evaluate(X_test, y_test))"
      ],
      "metadata": {
        "colab": {
          "base_uri": "https://localhost:8080/"
        },
        "id": "CNhfHi8GXVVc",
        "outputId": "efdeafa0-adbf-42d1-e6b1-9372e80593b9"
      },
      "execution_count": null,
      "outputs": [
        {
          "output_type": "stream",
          "name": "stdout",
          "text": [
            "12/12 [==============================] - 0s 2ms/step - loss: 0.0879 - accuracy: 0.9816\n",
            "Train score: [0.0879453718662262, 0.9816272854804993]\n",
            "6/6 [==============================] - 0s 2ms/step - loss: 0.1041 - accuracy: 0.9734\n",
            "Test score: [0.10411636531352997, 0.9734042286872864]\n"
          ]
        }
      ]
    },
    {
      "cell_type": "code",
      "source": [
        "import matplotlib.pyplot as plt\n",
        "\n",
        "# Plot the training progress\n",
        "plt.plot(result.history['loss'], label='loss') # loss per epoch\n",
        "plt.plot(result.history['val_loss'], label='val_loss') # validation loss per epoch\n",
        "plt.legend()"
      ],
      "metadata": {
        "colab": {
          "base_uri": "https://localhost:8080/",
          "height": 447
        },
        "id": "Qhts55GZXfbM",
        "outputId": "f6c332cb-2f52-46a4-baff-58c8adf8a682"
      },
      "execution_count": null,
      "outputs": [
        {
          "output_type": "execute_result",
          "data": {
            "text/plain": [
              "<matplotlib.legend.Legend at 0x7f6814a86980>"
            ]
          },
          "metadata": {},
          "execution_count": 57
        },
        {
          "output_type": "display_data",
          "data": {
            "text/plain": [
              "<Figure size 640x480 with 1 Axes>"
            ],
            "image/png": "[encoded data removed]"
          },
          "metadata": {}
        }
      ]
    },
    {
      "cell_type": "code",
      "source": [
        "plt.plot(result.history['accuracy'], label='accuracy') # training accuracy per epoch\n",
        "plt.plot(result.history['val_accuracy'], label='val_accuracy') # validation accuracy per epoch\n",
        "plt.legend()"
      ],
      "metadata": {
        "colab": {
          "base_uri": "https://localhost:8080/",
          "height": 451
        },
        "id": "7ZUimDaLZ8k7",
        "outputId": "2db1ab33-e9a6-4b6c-e6a7-9ccef67811a0"
      },
      "execution_count": null,
      "outputs": [
        {
          "output_type": "execute_result",
          "data": {
            "text/plain": [
              "<matplotlib.legend.Legend at 0x7f6814afa1d0>"
            ]
          },
          "metadata": {},
          "execution_count": 58
        },
        {
          "output_type": "display_data",
          "data": {
            "text/plain": [
              "<Figure size 640x480 with 1 Axes>"
            ],
            "image/png": "[encoded data removed]"
          },
          "metadata": {}
        }
      ]
    }
  ]
}